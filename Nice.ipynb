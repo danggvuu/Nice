{
 "cells": [
  {
   "cell_type": "markdown",
   "id": "75df0c87",
   "metadata": {},
   "source": [
    "# Data Science Tools and Ecosystem\n",
    "**Exercise 2**: Create a markdown cell with the title of the notebook."
   ]
  },
  {
   "cell_type": "markdown",
   "id": "8e345d60",
   "metadata": {},
   "source": [
    "## Introduction\n",
    "**Exercise 3**: In this notebook, Data Science Tools and Ecosystem are summarized."
   ]
  },
  {
   "cell_type": "markdown",
   "id": "e1b4407c",
   "metadata": {},
   "source": [
    "## Data Science Languages\n",
    "**Exercise 4**: Some of the popular languages that Data Scientists use are:\n",
    "- Python\n",
    "- R\n",
    "- SQL\n",
    "- Julia"
   ]
  },
  {
   "cell_type": "markdown",
   "id": "0b05e983",
   "metadata": {},
   "source": [
    "## Data Science Libraries\n",
    "**Exercise 5**: Some of the commonly used libraries used by Data Scientists include:\n",
    "- Pandas\n",
    "- NumPy\n",
    "- Matplotlib\n",
    "- Scikit-learn\n",
    "- TensorFlow"
   ]
  },
  {
   "cell_type": "markdown",
   "id": "60070556",
   "metadata": {},
   "source": [
    "## Data Science Tools\n",
    "**Exercise 6**: Below is a table of Data Science tools.\n",
    "\n",
    "| Tool | Category |\n",
    "|------|----------|\n",
    "| Jupyter Notebook | IDE |\n",
    "| RStudio | IDE |\n",
    "| Apache Spark | Big Data Processing |\n",
    "| TensorFlow | Machine Learning |\n",
    "| Tableau | Data Visualization |"
   ]
  },
  {
   "cell_type": "markdown",
   "id": "b25193b3",
   "metadata": {},
   "source": [
    "## Arithmetic Expression Examples\n",
    "**Exercise 7**: This section shows examples of evaluating arithmetic expressions in Python."
   ]
  },
  {
   "cell_type": "code",
   "execution_count": null,
   "id": "de16c6b4",
   "metadata": {},
   "outputs": [],
   "source": [
    "# Exercise 8\n",
    "# Multiply and add numbers\n",
    "(3*4)+5"
   ]
  },
  {
   "cell_type": "code",
   "execution_count": null,
   "id": "42f91a15",
   "metadata": {},
   "outputs": [],
   "source": [
    "# Exercise 9\n",
    "# Convert minutes to hours\n",
    "minutes = 200\n",
    "hours = minutes / 60\n",
    "hours"
   ]
  },
  {
   "cell_type": "markdown",
   "id": "381f4b71",
   "metadata": {},
   "source": [
    "## Objectives\n",
    "**Exercise 10**: In this notebook, you will learn:\n",
    "- Popular languages used in Data Science\n",
    "- Common libraries in Data Science\n",
    "- Data Science tools\n",
    "- Examples of evaluating arithmetic expressions\n",
    "- Conversion of units using Python code"
   ]
  },
  {
   "cell_type": "markdown",
   "id": "71aa8fa3",
   "metadata": {},
   "source": [
    "## Author\n",
    "**Exercise 11**: Author: **Đăng Vũ**"
   ]
  },
  {
   "cell_type": "markdown",
   "id": "2498c537",
   "metadata": {},
   "source": [
    "## Share on GitHub\n",
    "**Exercise 12**: This notebook should be uploaded to GitHub and the public link shared."
   ]
  },
  {
   "cell_type": "markdown",
   "id": "feec7c86",
   "metadata": {},
   "source": [
    "## Screenshot\n",
    "**Exercise 13**: A screenshot of the first page of the notebook (title + intro) should be taken and uploaded as part of the submission."
   ]
  }
 ],
 "metadata": {
  "kernelspec": {
   "display_name": "Python [conda env:base] *",
   "language": "python",
   "name": "conda-base-py"
  },
  "language_info": {
   "codemirror_mode": {
    "name": "ipython",
    "version": 3
   },
   "file_extension": ".py",
   "mimetype": "text/x-python",
   "name": "python",
   "nbconvert_exporter": "python",
   "pygments_lexer": "ipython3",
   "version": "3.13.5"
  }
 },
 "nbformat": 4,
 "nbformat_minor": 5
}
